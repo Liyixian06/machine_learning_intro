{
 "cells": [
  {
   "cell_type": "markdown",
   "metadata": {},
   "source": [
    "# 机器学习 实验四  \n",
    "**题目：朴素贝叶斯**  \n",
    "实验条件：Most Popular Data Set 中的 wine 数据集（对意大利同一地区声场的三种不同品种的酒做大量\n",
    "分析所得出的数据）  \n",
    "实验要求：  \n",
    "1. 基本要求：\n",
    "   1. 采用分层采样的方式将数据集划分为训练集和测试集。\n",
    "   2. 给定编写一个朴素贝叶斯分类器，对测试集进行预测，计算分类准确率。\n",
    "2. 中级要求：使用测试集评估模型，得到混淆矩阵，精度，召回率，F值。\n",
    "3. 高级要求：在中级要求的基础上画出三类数据的ROC曲线，并求出AUC值。\n",
    "4. 拓展要求：浅谈ROC曲线和AUC值作为分类评价的合理性。"
   ]
  },
  {
   "cell_type": "markdown",
   "metadata": {},
   "source": [
    "# 导入需要的包"
   ]
  },
  {
   "cell_type": "code",
   "execution_count": 32,
   "metadata": {},
   "outputs": [],
   "source": [
    "import math\n",
    "import random\n",
    "import numpy as np\n",
    "import pandas as pd\n",
    "import matplotlib.pyplot as plt"
   ]
  },
  {
   "cell_type": "markdown",
   "metadata": {},
   "source": [
    "# 基本要求"
   ]
  },
  {
   "cell_type": "code",
   "execution_count": 107,
   "metadata": {},
   "outputs": [],
   "source": [
    "# 按类别提取数据\n",
    "f = open('wine.data', 'r')\n",
    "data = []\n",
    "types = [[],[],[]]\n",
    "data_num = 178\n",
    "type_num = [59, 71, 48]\n",
    "for i in range(data_num):\n",
    "    data.append(f.readline().split(','))\n",
    "    data[i][13].rstrip('\\n')\n",
    "for i in range(data_num):\n",
    "    for j in range(14):\n",
    "        if j==0:\n",
    "            data[i][j] = int(data[i][j])\n",
    "        else:\n",
    "            data[i][j] = float(data[i][j])\n",
    "    type = data[i].pop(0)\n",
    "    types[type-1].append(data[i])"
   ]
  },
  {
   "cell_type": "code",
   "execution_count": 173,
   "metadata": {},
   "outputs": [
    {
     "name": "stdout",
     "output_type": "stream",
     "text": [
      "第 1 类样本训练集大小： 39  测试集大小： 20\n",
      "第 2 类样本训练集大小： 47  测试集大小： 24\n",
      "第 3 类样本训练集大小： 32  测试集大小： 16\n"
     ]
    }
   ],
   "source": [
    "# 分层采样，将数据集划为训练集和测试集\n",
    "x_train = [[],[],[]]\n",
    "x_test = [[],[],[]]\n",
    "train_num = []\n",
    "test_num = []\n",
    "for i in range(3):\n",
    "    num = int(len(types[i])*2/3) # 按训练集:测试集为 2:1 比例划分\n",
    "    train_num.append(num)\n",
    "    test_num.append(len(types[i])-num)\n",
    "    random.shuffle(types[i])\n",
    "    x_train[i] = types[i][:num]\n",
    "    x_test[i] = types[i][num:]\n",
    "    print(\"第\", i+1, \"类样本训练集大小：\",train_num[i],\" 测试集大小：\",test_num[i])"
   ]
  },
  {
   "cell_type": "code",
   "execution_count": 110,
   "metadata": {},
   "outputs": [],
   "source": [
    "# 朴素贝叶斯公式，计算数据在某一类别下的概率\n",
    "def Bayes(data, p, mean, var):\n",
    "    res = p\n",
    "    for i in range(len(data)):\n",
    "        res /= math.sqrt(2*math.pi) * var[i]\n",
    "        res *= math.exp(-pow((data[i]-mean[i]),2) / (2*pow(var[i],2)))\n",
    "    return res"
   ]
  },
  {
   "cell_type": "code",
   "execution_count": 174,
   "metadata": {},
   "outputs": [
    {
     "name": "stdout",
     "output_type": "stream",
     "text": [
      "[0.3305084745762712, 0.3983050847457627, 0.2711864406779661]\n",
      "[1.36710256e+01 1.94153846e+00 2.45128205e+00 1.71743590e+01\n",
      " 1.06743590e+02 2.89641026e+00 3.03717949e+00 2.86666667e-01\n",
      " 1.96128205e+00 5.65641026e+00 1.05871795e+00 3.20743590e+00\n",
      " 1.12402564e+03]\n",
      "[4.55748440e-01 5.68364899e-01 2.31994468e-01 2.78169087e+00\n",
      " 1.08479419e+01 3.46376756e-01 3.74446249e-01 6.93683344e-02\n",
      " 4.41339334e-01 1.26131898e+00 1.07945368e-01 3.46977557e-01\n",
      " 2.14565570e+02]\n"
     ]
    }
   ],
   "source": [
    "# 均值和方差\n",
    "means = [[],[],[]]\n",
    "vars = [[],[],[]]\n",
    "for i in range(3):\n",
    "    means[i] = np.mean(x_train[i], axis=0)\n",
    "    vars[i] = np.std(x_train[i], axis=0)\n",
    "\n",
    "train_total_num = np.sum(train_num)\n",
    "p = [len(x_train[i])/train_total_num for i in range(3)]\n",
    "\n",
    "print(p)\n",
    "print(means[0])\n",
    "print(vars[0])"
   ]
  },
  {
   "cell_type": "code",
   "execution_count": 114,
   "metadata": {},
   "outputs": [],
   "source": [
    "def Bayes_classifier():\n",
    "    wrong_num = 0\n",
    "    p_pred = [] # 样本属于不同类别的概率\n",
    "    y_pred = [] # 预测类别\n",
    "    y_test = [] # 实际类别\n",
    "    for i in range(3):\n",
    "        for x in x_test[i]: # 对每个样本，计算它属于每个类别的概率，取最大值\n",
    "            tmp_type = []\n",
    "            for j in range(3):\n",
    "                tmp = Bayes(x, p[j], means[j], vars[j])\n",
    "                #print(tmp)\n",
    "                tmp_type.append(tmp)\n",
    "            #print(tmp_type)\n",
    "            p_pred.append(tmp_type)\n",
    "            pre_type = tmp_type.index(max(tmp_type))\n",
    "            y_pred.append(pre_type)\n",
    "            y_test.append(i)\n",
    "            if pre_type!=i:\n",
    "                wrong_num+=1\n",
    "    return wrong_num, y_test, y_pred, p_pred"
   ]
  },
  {
   "cell_type": "code",
   "execution_count": 175,
   "metadata": {},
   "outputs": [
    {
     "name": "stdout",
     "output_type": "stream",
     "text": [
      "实际类别为： [0, 0, 0, 0, 0, 0, 0, 0, 0, 0, 0, 0, 0, 0, 0, 0, 0, 0, 0, 0, 1, 1, 1, 1, 1, 1, 1, 1, 1, 1, 1, 1, 1, 1, 1, 1, 1, 1, 1, 1, 1, 1, 1, 1, 2, 2, 2, 2, 2, 2, 2, 2, 2, 2, 2, 2, 2, 2, 2, 2]\n",
      "预测结果为： [0, 0, 0, 0, 0, 0, 0, 0, 0, 0, 0, 0, 0, 0, 0, 0, 0, 1, 0, 0, 1, 1, 1, 1, 1, 1, 1, 2, 1, 1, 1, 1, 1, 1, 1, 1, 1, 0, 1, 1, 1, 1, 0, 1, 2, 2, 2, 2, 2, 2, 2, 2, 2, 2, 2, 2, 2, 2, 2, 2]\n",
      "预测错误个数为： 4\n",
      "朴素贝叶斯分类器的准确率为： 0.9333333333333333\n"
     ]
    }
   ],
   "source": [
    "wrong_num, y_test, y_pred, p_pred = Bayes_classifier()\n",
    "print(\"实际类别为：\",y_test)\n",
    "print(\"预测结果为：\",y_pred)\n",
    "print(\"预测错误个数为：\",wrong_num)\n",
    "accuracy = 1 - wrong_num/(data_num-train_total_num)\n",
    "print(\"朴素贝叶斯分类器的准确率为：\",accuracy)"
   ]
  },
  {
   "cell_type": "markdown",
   "metadata": {},
   "source": [
    "# 中级要求"
   ]
  },
  {
   "cell_type": "code",
   "execution_count": 105,
   "metadata": {},
   "outputs": [],
   "source": [
    "# 计算混淆矩阵\n",
    "def confusion_mat(y_test,y_pred):\n",
    "    confusion = np.zeros((3,3))\n",
    "    for i in range(len(y_test)):\n",
    "        confusion[y_test[i]][y_pred[i]] += 1\n",
    "    confusion = np.array(confusion)\n",
    "    return confusion"
   ]
  },
  {
   "cell_type": "code",
   "execution_count": 176,
   "metadata": {},
   "outputs": [
    {
     "name": "stdout",
     "output_type": "stream",
     "text": [
      "混淆矩阵：\n",
      " [[19.  1.  0.]\n",
      " [ 2. 21.  1.]\n",
      " [ 0.  0. 16.]]\n",
      "class \t precision \t recall \t F1_score\n",
      "1 \t 0.95000 \t 0.95000 \t 0.95000\n",
      "2 \t 0.87500 \t 0.87500 \t 0.87500\n",
      "3 \t 1.00000 \t 1.00000 \t 1.00000\n"
     ]
    }
   ],
   "source": [
    "confusion_matrix = confusion_mat(y_test,y_pred)\n",
    "print(\"混淆矩阵：\\n\", confusion_matrix)\n",
    "\n",
    "# 计算精度、召回率、F值\n",
    "precision = []\n",
    "recall = []\n",
    "F1_score = []\n",
    "for i in range(3):\n",
    "    precision.append(confusion_matrix[i][i]/np.sum(confusion_matrix[i]))\n",
    "    recall.append(confusion_matrix[i][i]/np.sum(confusion_matrix,axis=1)[i])\n",
    "    F1_score.append(2*precision[i]*recall[i]/(precision[i]+recall[i]))\n",
    "\n",
    "print(\"class \\t precision \\t recall \\t F1_score\")\n",
    "for i in range(3):\n",
    "    print(i+1,\"\\t\",format(precision[i],'.5f'),\"\\t\", format(recall[i],'.5f'), \"\\t\", format(F1_score[i],'.5f'))"
   ]
  },
  {
   "cell_type": "markdown",
   "metadata": {},
   "source": [
    "# 高级要求"
   ]
  },
  {
   "cell_type": "code",
   "execution_count": 196,
   "metadata": {},
   "outputs": [],
   "source": [
    "# 画ROC曲线\n",
    "def ROC(y_test, p_pred, test_num):\n",
    "    fpr = [[],[],[]]\n",
    "    tpr = [[],[],[]]\n",
    "    for i in range(3):\n",
    "        for j in np.argsort(p_pred[:,i])[::-1]: # 根据样本属于某一类别的概率，从高到低排序\n",
    "            threshold = p_pred[j,i] # 依次作为阈值\n",
    "            tp = 0\n",
    "            fp = 0\n",
    "            for k in range(len(y_test)):\n",
    "                if(p_pred[k,i]>=threshold): # 样本属于该类别的概率大于等于阈值时为正，否则为负\n",
    "                    if(y_test[k]== i):\n",
    "                        tp += 1\n",
    "                    else:\n",
    "                        fp += 1\n",
    "            # 每个阈值可以对应计算出roc曲线上的一点\n",
    "            fpr[i].append(fp/(np.sum(test_num)-test_num[i]))\n",
    "            tpr[i].append(tp/test_num[i])\n",
    "    return fpr, tpr"
   ]
  },
  {
   "cell_type": "code",
   "execution_count": 197,
   "metadata": {},
   "outputs": [
    {
     "name": "stdout",
     "output_type": "stream",
     "text": [
      "[0.995, 0.9085648148148147, 0.9957386363636364]\n"
     ]
    }
   ],
   "source": [
    "p_pred = np.array(p_pred)\n",
    "fpr, tpr = ROC(y_test, p_pred, test_num)\n",
    "auc = []\n",
    "# 近似计算AUC值，为曲线下方的大小\n",
    "for i in range(3):\n",
    "    sum = 0\n",
    "    for j in range(len(fpr[i])-1):\n",
    "        sum += (fpr[i][j+1]-fpr[i][j])*(tpr[i][j])\n",
    "    auc.append(sum)\n",
    "print(auc)"
   ]
  },
  {
   "cell_type": "code",
   "execution_count": 198,
   "metadata": {},
   "outputs": [
    {
     "data": {
      "image/png": "[encoded data removed]",
      "text/plain": [
       "<Figure size 640x480 with 1 Axes>"
      ]
     },
     "metadata": {},
     "output_type": "display_data"
    }
   ],
   "source": [
    "plt.figure()\n",
    "for i in range(3):\n",
    "    plt.plot(fpr[i], tpr[i], label='roc curve (class %d), auc = %0.3f'%(i+1, auc[i]))\n",
    "plt.plot([0,1], [0,1], 'k--')\n",
    "plt.title('ROC curve')\n",
    "plt.xlabel('false positive rate')\n",
    "plt.ylabel('true positive rate')\n",
    "plt.legend(loc='lower right')\n",
    "plt.show()"
   ]
  },
  {
   "cell_type": "markdown",
   "metadata": {},
   "source": [
    "# 拓展要求  \n",
    "\n",
    "我们希望模型能兼顾precision和recall，但二者是矛盾的；如果模型要覆盖尽可能多的样本，就更容易犯错；反之如果它想保持准确率，就容易出现纰漏。要想找到平衡点，就必须遍历模型预测从保守到激进的区间。\n",
    "\n",
    "ROC曲线的横坐标假阳率 fpr = fp/(fp+tn)，纵坐标真阳率（等于recall） tpr = tp/(tp+fn) 都是基于实际的正样本和负样本出发的，不受样本平衡程度的影响，即使有90%都是正样本，它们也只各自关注正样本和负样本的覆盖率，避免了像precision那样以预测值为条件的问题；前者表示模型虚报的程度（即，预测的激进程度），后者表示模型预测的覆盖程度，从低到高，显然越接近左上角表现就越好。AUC代表ROC曲线下方的面积，量化了这一表现的好坏。\n",
    "\n",
    "总而言之，ROC曲线和AUC值对不平衡样本不敏感，因此可以很好地判断模型的总体表现。"
   ]
  }
 ],
 "metadata": {
  "kernelspec": {
   "display_name": "Python 3",
   "language": "python",
   "name": "python3"
  },
  "language_info": {
   "codemirror_mode": {
    "name": "ipython",
    "version": 3
   },
   "file_extension": ".py",
   "mimetype": "text/x-python",
   "name": "python",
   "nbconvert_exporter": "python",
   "pygments_lexer": "ipython3",
   "version": "3.7.0"
  }
 },
 "nbformat": 4,
 "nbformat_minor": 2
}
